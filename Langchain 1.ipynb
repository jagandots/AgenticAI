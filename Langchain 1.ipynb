{
 "cells": [
  {
   "cell_type": "markdown",
   "id": "d710d988",
   "metadata": {},
   "source": [
    "### Assisgment:\n",
    "#Create a simple assistant that uses any LLM and should be pydantic, when we ask about any product it should give you two information product Name, product details tentative price in USD (integer). use chat Prompt Template."
   ]
  },
  {
   "cell_type": "code",
   "execution_count": null,
   "id": "d74a8876",
   "metadata": {},
   "outputs": [],
   "source": [
    "import os\n",
    "from dotenv import load_dotenv\n",
    "from langchain_groq import ChatGroq\n",
    "from pydantic import BaseModel, Field\n",
    "from langchain.prompts import ChatPromptTemplate\n",
    "from langchain_core.output_parsers import JsonOutputParser\n",
    "import json\n"
   ]
  },
  {
   "cell_type": "code",
   "execution_count": 2,
   "id": "fb8284c6",
   "metadata": {},
   "outputs": [],
   "source": [
    "env_path = \"../../AgenticAI/.env\"\n",
    "load_dotenv(env_path)\n",
    "os.environ[\"GROQ_API_KEY\"] = os.getenv(\"GROQ_API_KEY\")\n",
    "\n",
    "## Langsmith Tracing\n",
    "os.environ[\"LANGCHAIN_API_KEY\"] = os.getenv(\"LANGCHAIN_API_KEY\")\n",
    "os.environ[\"LANGCHAIN_PROJECT\"] = os.getenv(\"LANGCHAIN_PROJECT\")\n",
    "os.environ[\"LANGCHAIN_TRACING_V2\"] = \"true\""
   ]
  },
  {
   "cell_type": "code",
   "execution_count": 27,
   "id": "bd36ee77",
   "metadata": {},
   "outputs": [],
   "source": [
    "llm = ChatGroq(model=\"qwen-qwq-32b\")\n",
    "    "
   ]
  },
  {
   "cell_type": "code",
   "execution_count": 15,
   "id": "736e10c3",
   "metadata": {},
   "outputs": [],
   "source": [
    "class ProductInfo(BaseModel):\n",
    "    name: str\n",
    "    details: str\n",
    "    price: int\n",
    "\n",
    "template = \"\"\"You are a product assistant. When given a product name, provide the following in a structured JSON format:\n",
    "- Product Name\n",
    "- Brief details\n",
    "- Tentative price in USD (integer)\n",
    "\n",
    "Product: {product_name}\n",
    "\"\"\"\n",
    "prompt = ChatPromptTemplate.from_template(template)"
   ]
  },
  {
   "cell_type": "code",
   "execution_count": 16,
   "id": "20771b5d",
   "metadata": {},
   "outputs": [],
   "source": [
    "parser = JsonOutputParser(pydantic_object=ProductInfo)\n",
    "\n",
    "chain = prompt | llm | parser"
   ]
  },
  {
   "cell_type": "code",
   "execution_count": 31,
   "id": "ce3b7c36",
   "metadata": {},
   "outputs": [
    {
     "name": "stdout",
     "output_type": "stream",
     "text": [
      "Response: {'Product Name': 'Samsung Galaxy Watch 6 Classic', 'Brief details': 'A premium smartwatch with a classic design, featuring a large AMOLED display, advanced health and fitness tracking, and seamless integration with Samsung devices.', 'Tentative price in USD': 400}\n"
     ]
    }
   ],
   "source": [
    "response = chain.invoke({\n",
    "    \"product_name\": \"Samsung Galaxy watch 6 Classic\"\n",
    "})\n",
    "\n",
    "print(\"Response:\", response)"
   ]
  }
 ],
 "metadata": {
  "kernelspec": {
   "display_name": "learnenv",
   "language": "python",
   "name": "python3"
  },
  "language_info": {
   "codemirror_mode": {
    "name": "ipython",
    "version": 3
   },
   "file_extension": ".py",
   "mimetype": "text/x-python",
   "name": "python",
   "nbconvert_exporter": "python",
   "pygments_lexer": "ipython3",
   "version": "3.13.3"
  }
 },
 "nbformat": 4,
 "nbformat_minor": 5
}
